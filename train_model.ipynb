{
 "cells": [
  {
   "cell_type": "markdown",
   "id": "b249e407-e161-4a2c-a0d2-e1e657a2e8f9",
   "metadata": {},
   "source": [
    "# Traveling Salesman Problem\n",
    "\n",
    "The traveling salesman problem requires finding the optimal route to be taken by a \"traveling salesman\" as they visit a set of cities.  The distances between cities are given, and the goal is to find the minimum distance to be traveled if we want to visit all the cities and return to the starting point.\n",
    "\n",
    "In general, this falls in the category of NP-hard problems: in other words, there is no known polynomial time algorithm that will give the minimum distance to be traveled - any solution to this problem more or less requires enumerating all permutations, which is more than exponential in the number of cities.\n",
    "\n",
    "Here we consider a simplified version of the problem, where cities are specified by their (x, y) coordinates, and the distance between cities is assumed to be the Euclidean distance.  This is unrealistic in practice since cities are normally connected by roads, and not all cities may be connected to all other cities, but this simple problem helps to illustrate one approach to solving such problems using Simulated Annealing."
   ]
  },
  {
   "cell_type": "code",
   "execution_count": null,
   "id": "e283c530-94a7-43fe-a5e2-e7513d3d70a2",
   "metadata": {},
   "outputs": [],
   "source": [
    "# Standard imports\n",
    "import numpy as np\n",
    "import matplotlib.pyplot as plt\n",
    "from matplotlib.animation import FuncAnimation\n",
    "import random"
   ]
  },
  {
   "cell_type": "markdown",
   "id": "311921fe-1c33-4c47-ad81-2d59da0108f3",
   "metadata": {},
   "source": [
    "## Utility functions\n",
    "\n",
    "We first define some utility functions that will be used by the optimization routine."
   ]
  },
  {
   "cell_type": "code",
   "execution_count": null,
   "id": "1629e8e4-48aa-48e9-ac7f-bbe2c5e3fab9",
   "metadata": {},
   "outputs": [],
   "source": [
    "# Generate random cities\n",
    "def generate_cities(num_cities):\n",
    "    return [(random.uniform(0, 100), random.uniform(0, 100)) for _ in range(num_cities)]"
   ]
  },
  {
   "cell_type": "code",
   "execution_count": null,
   "id": "ed96d6a7-324a-4947-8d47-666258485309",
   "metadata": {},
   "outputs": [],
   "source": [
    "# Calculate the total distance of a route\n",
    "def calculate_distance(route, cities):\n",
    "    return sum(np.sqrt((cities[route[i]][0] - cities[route[i-1]][0])**2 + \n",
    "                       (cities[route[i]][1] - cities[route[i-1]][1])**2) \n",
    "               for i in range(len(route)))"
   ]
  },
  {
   "cell_type": "markdown",
   "id": "50daa6cc-def1-407c-a3dd-b7140652e4a3",
   "metadata": {},
   "source": [
    "## Neighbour generation\n",
    "\n",
    "The main point of the simulated annealing algorithm is to generate *neighbours* - solutions that are close to the existing solution, but different in some way, in order to evaluate whether the new solution is better than the existing one.  Here we use the approach that swapping two cities results in a new solution that is considered a *neighbour* of the existing one."
   ]
  },
  {
   "cell_type": "code",
   "execution_count": null,
   "id": "8ca9dd4d-ff80-4000-9c8e-3b752aca1b1f",
   "metadata": {},
   "outputs": [],
   "source": [
    "# Generate a neighbour solution by swapping two cities\n",
    "def get_neighbour(route):\n",
    "    new_route = route.copy()\n",
    "    i, j = random.sample(range(len(route)), 2)\n",
    "    new_route[i], new_route[j] = new_route[j], new_route[i]\n",
    "    return new_route"
   ]
  },
  {
   "cell_type": "markdown",
   "id": "991acc62-bc76-49cd-a2e5-ce538d2bc975",
   "metadata": {},
   "source": [
    "## Simulated Annealing\n",
    "\n",
    "The actual annealing process involves iterating until some condition is satisfied: in this case we use a fixed number of iterations as the terminating condition.  You could also decide to continue until there is no improvement in the solution for some number of iterations, or the cost goes below a certain threshold, etc.\n",
    "\n",
    "At each iteration, a new neighbour is generated.  The cost of this is calculated, and the decision to *accept* or *reject* the new solution is based on either actual improvement, or a *coin toss* - a random event whose probability decreases with iterations.  Eventually, the chance of accepting poorer solutions is so low that we settle to a solution, which hopefully is a good solution given the method used for searching through the neighbourhood."
   ]
  },
  {
   "cell_type": "code",
   "execution_count": null,
   "id": "3a8f1e61-22e7-40be-bfe1-de21a77bd76d",
   "metadata": {},
   "outputs": [],
   "source": [
    "# Simulated annealing algorithm\n",
    "def simulated_annealing(cities, initial_temp, cooling_rate, num_iterations):\n",
    "    current_route = list(range(len(cities)))\n",
    "    random.shuffle(current_route)\n",
    "    current_distance = calculate_distance(current_route, cities)\n",
    "    \n",
    "    best_route = current_route.copy()\n",
    "    best_distance = current_distance\n",
    "    \n",
    "    temp = initial_temp\n",
    "    distances = [current_distance]\n",
    "    best_routes = [best_route.copy()]\n",
    "    best_distances = [best_distance]\n",
    "    \n",
    "    for i in range(num_iterations):\n",
    "        neighbour_route = get_neighbour(current_route)\n",
    "        neighbour_distance = calculate_distance(neighbour_route, cities)\n",
    "        \n",
    "        p = np.exp((current_distance - neighbour_distance) / temp)\n",
    "        # print(f\"Prob[{i} = {p}\")\n",
    "        if neighbour_distance < current_distance or random.random() < p:\n",
    "            current_route = neighbour_route\n",
    "            current_distance = neighbour_distance\n",
    "            \n",
    "            if current_distance < best_distance:\n",
    "                best_route = current_route.copy()\n",
    "                best_distance = current_distance\n",
    "        \n",
    "        temp *= cooling_rate\n",
    "        distances.append(current_distance)\n",
    "        best_routes.append(best_route.copy())\n",
    "        best_distances.append(best_distance)\n",
    "\n",
    "    return best_routes, best_distances, distances"
   ]
  },
  {
   "cell_type": "markdown",
   "id": "72d256c0-8b25-4e59-a4cd-fdb5085ed1b6",
   "metadata": {},
   "source": [
    "## Animation\n",
    "\n",
    "We would like to visualize this entire process as an animation, so we set up an update function that can be used for the `matplotlib` `FuncAnimation` method.  Note that here we actually process the entire simulated annealing in advance and then create the animation, but in practice it may be better to do it *live* since the evaluation of costs itself could be expensive."
   ]
  },
  {
   "cell_type": "code",
   "execution_count": null,
   "id": "07833a39-668a-4177-8a0e-84e332c3c90b",
   "metadata": {},
   "outputs": [],
   "source": [
    "# Animation update function\n",
    "def update(frame, cities, routes, distances, cur_dist, route_line, distance_line, cur_dist_line):\n",
    "    route = routes[frame]\n",
    "    coords = np.array([cities[i] for i in route + [route[0]]])\n",
    "    route_line.set_data(coords[:, 0], coords[:, 1])\n",
    "    distance_line.set_data(range(frame + 1), distances[:frame + 1])\n",
    "    cur_dist_line.set_data(range(frame + 1), cur_dist[:frame + 1])\n",
    "    return route_line, distance_line, cur_dist_line"
   ]
  },
  {
   "cell_type": "markdown",
   "id": "3de6cb86-a6f9-43c7-8833-25e6dfbe2c78",
   "metadata": {},
   "source": [
    "## Actually running the code\n",
    "\n",
    "Finally we collate the actual running of the algorithm into a single `main` function so that it can be used as a standalone script.  For a Jupyter notebook this is not needed, but is still generally a good way to organize your code."
   ]
  },
  {
   "cell_type": "code",
   "execution_count": null,
   "id": "56d740d2-a9b2-493c-8d25-c029c8b0b2ba",
   "metadata": {},
   "outputs": [],
   "source": [
    "# Main function to run the algorithm and create the animation\n",
    "def main():\n",
    "    num_cities = 20\n",
    "    initial_temp = 100\n",
    "    cooling_rate = 0.995\n",
    "    num_iterations = 100\n",
    "\n",
    "    cities = generate_cities(num_cities)\n",
    "    best_routes, best_distances, cur_dist = simulated_annealing(cities, initial_temp, cooling_rate, num_iterations)\n",
    "\n",
    "    # Set up the figure and subplots\n",
    "    fig, (ax1, ax2) = plt.subplots(1, 2, figsize=(15, 6))\n",
    "    fig.suptitle(\"Simulated Annealing for Traveling Salesman Problem\")\n",
    "\n",
    "    # Route subplot\n",
    "    ax1.set_xlim(0, 100)\n",
    "    ax1.set_ylim(0, 100)\n",
    "    ax1.set_title(\"Best Route\")\n",
    "    ax1.set_xlabel(\"X coordinate\")\n",
    "    ax1.set_ylabel(\"Y coordinate\")\n",
    "    route_line, = ax1.plot([], [], 'bo-')\n",
    "\n",
    "    # Distance subplot\n",
    "    ax2.set_xlim(0, num_iterations)\n",
    "    ax2.set_ylim(min(best_distances) * 0.9, max(best_distances) * 1.1)\n",
    "    ax2.set_title(\"Best Distance over Iterations\")\n",
    "    ax2.set_xlabel(\"Iteration\")\n",
    "    ax2.set_ylabel(\"Distance\")\n",
    "    distance_line, = ax2.plot([], [], 'r-')\n",
    "    cur_dist_line, = ax2.plot([], [], 'g-')\n",
    "\n",
    "    # Create the animation\n",
    "    anim = FuncAnimation(fig, update, frames=range(0, num_iterations, 1), \n",
    "                         fargs=(cities, best_routes, best_distances, cur_dist, route_line, distance_line, cur_dist_line),\n",
    "                         interval=50, blit=True, repeat=False)\n",
    "    return anim\n",
    "    # Use plt.show() if running as a script\n",
    "    # plt.tight_layout()\n",
    "    # plt.show()\n",
    "    "
   ]
  },
  {
   "cell_type": "code",
   "execution_count": null,
   "id": "c3b8282b-a126-4004-bcb2-b71443bb2e82",
   "metadata": {},
   "outputs": [],
   "source": [
    "# In a script, we would have \n",
    "# if __name__ == '__main__':\n",
    "#    main()\n",
    "# Use the HTML animation for display inside a notebook\n",
    "anim = main()\n",
    "from IPython.display import HTML\n",
    "HTML(anim.to_jshtml())\n"
   ]
  },
  {
   "cell_type": "code",
   "execution_count": null,
   "id": "a51aaf86-a301-4a20-954b-b0b9f92ec8fc",
   "metadata": {},
   "outputs": [],
   "source": []
  }
 ],
 "metadata": {
  "kernelspec": {
   "display_name": "Python 3 (ipykernel)",
   "language": "python",
   "name": "python3"
  },
  "language_info": {
   "codemirror_mode": {
    "name": "ipython",
    "version": 3
   },
   "file_extension": ".py",
   "mimetype": "text/x-python",
   "name": "python",
   "nbconvert_exporter": "python",
   "pygments_lexer": "ipython3",
   "version": "3.9.2"
  }
 },
 "nbformat": 4,
 "nbformat_minor": 5
}
Apollo
