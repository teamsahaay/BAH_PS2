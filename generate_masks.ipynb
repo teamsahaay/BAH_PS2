{
 "cells": [
  {
   "cell_type": "code",
   "execution_count": 49,
   "id": "2d7a39a0-a032-4bae-aa54-a809f7861889",
   "metadata": {},
   "outputs": [],
   "source": [
    "from geotiff import GeoTiff\n",
    "import numpy as np\n",
    "import csv\n",
    "import shapefile\n",
    "from PIL import Image, ImageDraw\n",
    "import cv2"
   ]
  },
  {
   "cell_type": "code",
   "execution_count": 2,
   "id": "b8c1820b-8a04-4814-b4aa-8c5429f9ffed",
   "metadata": {},
   "outputs": [],
   "source": [
    "geotiff = GeoTiff(\"sentinel2img.tif\")"
   ]
  },
  {
   "cell_type": "code",
   "execution_count": 3,
   "id": "be780936-4243-4ac3-b5b8-3d4e7fc57352",
   "metadata": {},
   "outputs": [
    {
     "data": {
      "text/plain": [
       "[4128, 3412, 4]"
      ]
     },
     "execution_count": 3,
     "metadata": {},
     "output_type": "execute_result"
    }
   ],
   "source": [
    "geotiff.tif_shape"
   ]
  },
  {
   "cell_type": "code",
   "execution_count": 4,
   "id": "8732dcf4-ebf7-48d0-b121-3c0a19f69893",
   "metadata": {},
   "outputs": [
    {
     "data": {
      "text/plain": [
       "((91.765286808, 26.151350309), (91.81163987682062, 26.113037162678296))"
      ]
     },
     "execution_count": 4,
     "metadata": {},
     "output_type": "execute_result"
    }
   ],
   "source": [
    "geotiff.get_coords(0, 0), geotiff.get_coords(4128, 3412)"
   ]
  },
  {
   "cell_type": "code",
   "execution_count": 5,
   "id": "e215ca73-24dc-4442-a6dc-3236c08ec351",
   "metadata": {},
   "outputs": [],
   "source": [
    "lon_array, lat_array = geotiff.get_coord_arrays()"
   ]
  },
  {
   "cell_type": "code",
   "execution_count": 6,
   "id": "5311629a-883d-4be1-9d47-c11393ebd768",
   "metadata": {},
   "outputs": [],
   "source": [
    "lat_array = lat_array[:, 0]\n",
    "lon_array = lon_array[0]"
   ]
  },
  {
   "cell_type": "code",
   "execution_count": 7,
   "id": "20d1bb5f-1743-4612-92c1-6852fcf0069e",
   "metadata": {},
   "outputs": [
    {
     "data": {
      "text/plain": [
       "(4128,)"
      ]
     },
     "execution_count": 7,
     "metadata": {},
     "output_type": "execute_result"
    }
   ],
   "source": [
    "lat_array.shape"
   ]
  },
  {
   "cell_type": "code",
   "execution_count": 8,
   "id": "e0c1b24e-f5ed-4ef6-837a-0ed3841f0408",
   "metadata": {},
   "outputs": [
    {
     "data": {
      "text/plain": [
       "3412"
      ]
     },
     "execution_count": 8,
     "metadata": {},
     "output_type": "execute_result"
    }
   ],
   "source": [
    "np.searchsorted(lon_array, 91.8038029981736)"
   ]
  },
  {
   "cell_type": "code",
   "execution_count": 9,
   "id": "9ffd4e07-7614-4cb4-9bfb-8f7f79a0723f",
   "metadata": {},
   "outputs": [
    {
     "data": {
      "text/plain": [
       "3412"
      ]
     },
     "execution_count": 9,
     "metadata": {},
     "output_type": "execute_result"
    }
   ],
   "source": [
    "np.searchsorted(lon_array, 91.8037911877971)"
   ]
  },
  {
   "cell_type": "code",
   "execution_count": 10,
   "id": "c1991655-bcc2-425b-86b2-272f12365967",
   "metadata": {},
   "outputs": [
    {
     "data": {
      "text/plain": [
       "(array([91.76528681, 91.76529804, 91.76530927, ..., 91.80356627,\n",
       "        91.8035775 , 91.80358873]),\n",
       " array([26.15135031, 26.15133908, 26.15132785, ..., 26.10503093,\n",
       "        26.1050197 , 26.10500847]))"
      ]
     },
     "execution_count": 10,
     "metadata": {},
     "output_type": "execute_result"
    }
   ],
   "source": [
    "lon_array, lat_array"
   ]
  },
  {
   "cell_type": "code",
   "execution_count": 79,
   "id": "0d78788a-0212-4b89-96a7-2b8036094c2f",
   "metadata": {},
   "outputs": [],
   "source": [
    "masks_array = np.zeros(lat_array.shape + lon_array.shape, dtype=float)\n",
    "masks = Image.fromarray(masks_array)\n",
    "masks_draw = ImageDraw.Draw(masks)"
   ]
  },
  {
   "cell_type": "code",
   "execution_count": 80,
   "id": "97f7a951-f40c-497c-b9be-f3c20380ee81",
   "metadata": {},
   "outputs": [
    {
     "data": {
      "text/plain": [
       "((4128, 3412), (4128, 3412))"
      ]
     },
     "execution_count": 80,
     "metadata": {},
     "output_type": "execute_result"
    }
   ],
   "source": [
    "masks_array.shape, geotiff.get_coord_arrays()[0].shape"
   ]
  },
  {
   "cell_type": "code",
   "execution_count": 81,
   "id": "ccc686a8-bff2-40f3-ba53-60dfbd913637",
   "metadata": {},
   "outputs": [],
   "source": [
    "with open(\"building_footprints_small.csv\", \"r\", newline=\"\") as csvfile:\n",
    "    reader = csv.reader(csvfile, delimiter=\",\")\n",
    "    next(reader)\n",
    "    for row in reader:\n",
    "        lat = float(row[0])\n",
    "        lon = float(row[1])\n",
    "\n",
    "        if lat < lat_array[0] and lon < lon_array[-1]:\n",
    "            poly_cartesian = [tuple(map(float, i.split())) for i in row[4].strip(\"POLYGON((\").strip(\")\").split(\"), (\")[0].split(\", \")]\n",
    "            lon_indices = [np.searchsorted(lon_array, i[0]) for i in poly_cartesian]\n",
    "            lat_indices = [np.searchsorted(lat_array, i[1], sorter=np.arange(len(lat_array) - 1, -1, -1)) for i in poly_cartesian]\n",
    "            poly = list(zip(lon_indices, lat_indices))\n",
    "            masks_draw.polygon(poly, fill=255)"
   ]
  },
  {
   "cell_type": "code",
   "execution_count": 82,
   "id": "638060ae-037c-4146-8af1-d422e77ee880",
   "metadata": {},
   "outputs": [],
   "source": [
    "unique, counts = np.unique(masks, return_counts=True)"
   ]
  },
  {
   "cell_type": "code",
   "execution_count": 83,
   "id": "2bf91e50-143c-46ed-884d-26fa4c0208b7",
   "metadata": {},
   "outputs": [
    {
     "data": {
      "text/plain": [
       "{0.0: 9893621, 255.0: 4191115}"
      ]
     },
     "execution_count": 83,
     "metadata": {},
     "output_type": "execute_result"
    }
   ],
   "source": [
    "dict(zip(unique, counts))"
   ]
  },
  {
   "cell_type": "code",
   "execution_count": 77,
   "id": "9d205a87-6090-42a6-ac33-7a42c23cff41",
   "metadata": {},
   "outputs": [
    {
     "data": {
      "text/plain": [
       "True"
      ]
     },
     "execution_count": 77,
     "metadata": {},
     "output_type": "execute_result"
    }
   ],
   "source": [
    "masks = np.ndarray.astype(np.array(masks), np.uint8)\n",
    "cv2.imwrite(\"buildings.png\", masks)"
   ]
  },
  {
   "cell_type": "code",
   "execution_count": 84,
   "id": "531033c5-8caf-42bc-898b-adf596e0046a",
   "metadata": {},
   "outputs": [],
   "source": [
    "masks = masks.convert(\"RGB\")\n",
    "masks.save(\"building.png\")"
   ]
  },
  {
   "cell_type": "code",
   "execution_count": null,
   "id": "5b8c63d5-7a83-4763-a7a7-eb56ae011872",
   "metadata": {},
   "outputs": [],
   "source": []
  }
 ],
 "metadata": {
  "kernelspec": {
   "display_name": "Python 3 (ipykernel)",
   "language": "python",
   "name": "python3"
  },
  "language_info": {
   "codemirror_mode": {
    "name": "ipython",
    "version": 3
   },
   "file_extension": ".py",
   "mimetype": "text/x-python",
   "name": "python",
   "nbconvert_exporter": "python",
   "pygments_lexer": "ipython3",
   "version": "3.11.9"
  }
 },
 "nbformat": 4,
 "nbformat_minor": 5
}
